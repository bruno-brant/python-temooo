{
 "cells": [
  {
   "cell_type": "code",
   "execution_count": 38,
   "metadata": {},
   "outputs": [],
   "source": [
    "from typing import Tuple, List"
   ]
  },
  {
   "cell_type": "markdown",
   "metadata": {},
   "source": [
    "# Carregar o Léxico\n",
    "Precisamos de uma lista de palavras válidas para a língua portuguesa - chamamos isso de léxico. Vamos utilizar um produzido por um time de especialistas da USP, no projeto [Unitex](http://www.nilc.icmc.usp.br/nilc/projects/unitex-pb/web/dicionarios.html).\n",
    "\n",
    "Esse léxico possui mais de 75.000 palavras encontradas em textos em português. \n",
    "\n",
    "> ⚠ Uma análise do arquivo irá mostrar vários verbetes que não seriam válidos no term.ooo, como palavras em inglês (Windows ou wheel), pois esse léxico foi extraído de textos reais onde verbetes em outras línguas também são encontrados. Futuramente, poderíamos fazer uma redução dessa base para apenas palavras usuais."
   ]
  },
  {
   "cell_type": "markdown",
   "metadata": {},
   "source": [
    "Note que carregamos apenas palavras com 5 caracteres, uma vez que esse tamanho é fixo no `term.ooo`."
   ]
  },
  {
   "cell_type": "code",
   "execution_count": 15,
   "metadata": {},
   "outputs": [],
   "source": [
    "def load_dictionary(filename: str, word_length: int):\n",
    "    \"\"\"\n",
    "    Loads a lexicon from a file, where the each word is the first token on a line.\n",
    "    Tokens are separated by commas.\n",
    "    \"\"\"\n",
    "    with open(filename, 'r', encoding='UTF-8') as f:\n",
    "        for line in f:\n",
    "            line = line.split(',')[0]\n",
    "            line = line.strip()\n",
    "\n",
    "            if len(line) == word_length:\n",
    "                yield line\n",
    "\n",
    "\n",
    "words = list(load_dictionary('DELAS_PB.dic', 5))"
   ]
  },
  {
   "cell_type": "markdown",
   "metadata": {},
   "source": [
    "# Primeiro chute\n",
    "\n",
    "Agora, vamos encontrar a palavra para ser nosso melhor primeiro \"chute\". Considerando uma distribuição de palavras que sigam o léxico (algo que não é, necessariamente, verdade ☹), vamos verificar quais são as letras mais frequentes. Dessa forma, vamos fazer o primeiro chute com uma palavra que contenha as letras mais frequentes na língua.\n",
    "\n",
    "Note que as cinco letras mais frequentes podem não formar uma palavra válida. Por isto, vamos pegar a palavra do léxico que possua o maior número de letras frequentes."
   ]
  },
  {
   "cell_type": "markdown",
   "metadata": {},
   "source": [
    "Primeiro, nós contabilizamos as letras no léxico."
   ]
  },
  {
   "cell_type": "code",
   "execution_count": 16,
   "metadata": {},
   "outputs": [],
   "source": [
    "letters = {}\n",
    "\n",
    "for word in words:\n",
    "    for letter in word:\n",
    "        if letter in letters:\n",
    "            letters[letter] += 1\n",
    "        else:\n",
    "            letters[letter] = 1\n",
    "\n",
    "# Sort by most common letter\n",
    "sorted_letters = sorted(letters.items(), key=lambda x: x[1], reverse=True)\n",
    "sorted_letters = list(map(lambda x: x[0], sorted_letters))\n"
   ]
  },
  {
   "cell_type": "markdown",
   "metadata": {},
   "source": [
    "Agora, procuramos uma palavra no léxico que maximize as letras frequentes. Um ponto importante aqui é que não queremos repetições - i.e., não queremos uma palavra que tenha letras repetidas."
   ]
  },
  {
   "cell_type": "code",
   "execution_count": 25,
   "metadata": {},
   "outputs": [
    {
     "name": "stdout",
     "output_type": "stream",
     "text": [
      "Could not find a word using the top letters aorei\n"
     ]
    },
    {
     "data": {
      "text/plain": [
       "'ariel'"
      ]
     },
     "execution_count": 25,
     "metadata": {},
     "output_type": "execute_result"
    }
   ],
   "source": [
    "def find_word_with_letters(words: list, letters: list) -> str:\n",
    "    \"\"\"\n",
    "    Finds the first word in the list that contains all the letters in the list.\n",
    "    \"\"\"\n",
    "    for word in words:\n",
    "        target = letters.copy()  # what letters are left to find\n",
    "\n",
    "        for letter in word:\n",
    "            if letter in target:\n",
    "                target.remove(letter)\n",
    "\n",
    "        if len(target) == len(letters) - 5:\n",
    "            return word\n",
    "\n",
    "    return None\n",
    "\n",
    "\n",
    "def find_best_guess(words, ranked_letters):\n",
    "    for size in range(5, len(ranked_letters)):\n",
    "        letters = ranked_letters[:size]\n",
    "        guess = find_word_with_letters(words, letters)\n",
    "\n",
    "        if guess != None:\n",
    "            return guess\n",
    "        else:\n",
    "            print(\"Could not find a word using the top letters {}\".format(\n",
    "                ''.join(letters)))\n",
    "\n",
    "\n",
    "best_guess = find_best_guess(words, sorted_letters)\n",
    "best_guess\n"
   ]
  },
  {
   "cell_type": "markdown",
   "metadata": {},
   "source": [
    "# Jogando o jogo\n",
    "\n",
    "Com nosso primeiro chute em mãos, iniciamos o jogo. Precisamos de uma maneira para codificar a resposta que o jogo nos da para cada chute; utilizaremos uma string para isso, onde cada posição identifica o retorno do jogo, da seguinte maneira:\n",
    "\n",
    "- Um espaço denota uma falha.\n",
    "- Um caractere `i` indica que a letra está inclusa na palavra, mas não na posição correta.\n",
    "- Um caracter `c` indica que a letra está inclusa na palavra e na posição correta.\n",
    "\n",
    "Para jogar, informamos ao usuário qual deve ser o chute, e aguardamos que ele insira a resposta recebida. Aí computamos o melhor chute considerando o que já sabemos.\n",
    "\n",
    "O melhor chute é aquele que obedece aquilo que já sabemos das palavras (por exemplo, quais letras devem estar presentes) e que prefere utilizar letras mais frequentes.\n",
    "\n",
    "> Seguimos essa heurística por que não temos como deduzir a probabilidade de uma palavra aparecer no jogo, mas temos uma regra para determinar a probabilidade de uma palavra incluir uma letra. "
   ]
  },
  {
   "cell_type": "code",
   "execution_count": 35,
   "metadata": {},
   "outputs": [],
   "source": [
    "class Result:\n",
    "\tdef __init__(self, result: str):\n",
    "\t\tif len(result) != 5:\n",
    "\t\t\traise ValueError('Result must be 5 letters long')\n",
    "\t\t\n",
    "\t\tresult = result.lower()\n",
    "\n",
    "\t\tif any(c not in ' ci' for c in result):\n",
    "\t\t\traise ValueError('Result must be composed of spaces, \"i\" or \"c\"')\n",
    "\n",
    "\t\tself._result = result\n",
    "\n",
    "\tdef __iter__(self):\n",
    "\t\treturn enumerate(self._result)\n"
   ]
  },
  {
   "cell_type": "code",
   "execution_count": 39,
   "metadata": {},
   "outputs": [],
   "source": [
    "class Guess:\n",
    "\tdef __init__(self, guess: str) -> None:\n",
    "\t\tif len(guess) != 5:\n",
    "\t\t\traise ValueError('Guess must be 5 letters long')\n",
    "\n",
    "\t\tguess = guess.lower()\n",
    "\n",
    "\t\tself._guess = guess\n",
    "\n",
    "\tdef apply_result(self, result: Result) -> Tuple[List[str], str]:\n",
    "\t\t\"\"\"\n",
    "\t\t@returns A list of included letters, and the word know from the guess.\n",
    "\t\t\"\"\"\n",
    "\t\tincluded = []\n",
    "\t\tknown = ''\n",
    "\n",
    "\t\tfor i, r in result:\n",
    "\t\t\tif r == ' ':\n",
    "\t\t\t\tknown += ' '\n",
    "\t\t\telif r == 'c':\n",
    "\t\t\t\tknown += self._guess[i]\n",
    "\t\t\telif r == 'i':\n",
    "\t\t\t\tincluded.append(self._guess[i])\n",
    "\n",
    "\t\treturn included, known"
   ]
  },
  {
   "cell_type": "code",
   "execution_count": null,
   "metadata": {},
   "outputs": [],
   "source": [
    "def play_game(inital_guess: Guess, words: List[str], ranked_letters: List[str]):\n",
    "    guesses = [inital_guess]\n",
    "\n",
    "\t# what letters should be in the word\n",
    "    included_letters = []  \n",
    "    \n",
    "\t# the word that is being guessed, every letter is blank until it is found\n",
    "    final_word = '     '\n",
    "\n",
    "    while True:\n",
    "        try:\n",
    "            result = input(\n",
    "                f'Try the guess \"{guesses[-1]}\". What was the result? ')\n",
    "\n",
    "            result = Result(result)\n",
    "\n",
    "\t\t\t\n",
    "\n",
    "        except:\n",
    "            print('Invalid input')\n",
    "            continue\n",
    "\n",
    "initial_guess = Guess(best_guess)\n",
    "play_game(best_guess, words, sorted_letters)\n"
   ]
  },
  {
   "cell_type": "code",
   "execution_count": null,
   "metadata": {},
   "outputs": [],
   "source": [
    " "
   ]
  }
 ],
 "metadata": {
  "interpreter": {
   "hash": "70a427b2caf12bb341e215cb6063d7bd143eaf83b0bbd6420b8e44f0edcb91f7"
  },
  "kernelspec": {
   "display_name": "Python 3.8.9 64-bit",
   "language": "python",
   "name": "python3"
  },
  "language_info": {
   "codemirror_mode": {
    "name": "ipython",
    "version": 3
   },
   "file_extension": ".py",
   "mimetype": "text/x-python",
   "name": "python",
   "nbconvert_exporter": "python",
   "pygments_lexer": "ipython3",
   "version": "3.8.9"
  },
  "orig_nbformat": 4
 },
 "nbformat": 4,
 "nbformat_minor": 2
}
