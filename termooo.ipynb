{
 "cells": [
  {
   "cell_type": "code",
   "execution_count": 90,
   "metadata": {},
   "outputs": [],
   "source": [
    "from typing import Tuple, List"
   ]
  },
  {
   "cell_type": "markdown",
   "metadata": {},
   "source": [
    "# Carregar o Léxico\n",
    "Precisamos de uma lista de palavras válidas para a língua portuguesa - chamamos isso de léxico. Vamos utilizar um produzido por um time de especialistas da USP, no projeto [Unitex](http://www.nilc.icmc.usp.br/nilc/projects/unitex-pb/web/dicionarios.html).\n",
    "\n",
    "Esse léxico possui mais de 75.000 palavras encontradas em textos em português. \n",
    "\n",
    "> ⚠ Uma análise do arquivo irá mostrar vários verbetes que não seriam válidos no term.ooo, como palavras em inglês (Windows ou wheel), pois esse léxico foi extraído de textos reais onde verbetes em outras línguas também são encontrados. Futuramente, poderíamos fazer uma redução dessa base para apenas palavras usuais."
   ]
  },
  {
   "cell_type": "markdown",
   "metadata": {},
   "source": [
    "Note que carregamos apenas palavras com 5 caracteres, uma vez que esse tamanho é fixo no `term.ooo`."
   ]
  },
  {
   "cell_type": "code",
   "execution_count": 91,
   "metadata": {},
   "outputs": [],
   "source": [
    "def load_dictionary(filename: str, word_length: int):\n",
    "    \"\"\"\n",
    "    Loads a lexicon from a file, where the each word is the first token on a line.\n",
    "    Tokens are separated by commas.\n",
    "    \"\"\"\n",
    "    with open(filename, 'r', encoding='UTF-8') as f:\n",
    "        for line in f:\n",
    "            line = line.split(',')[0]\n",
    "            line = line.strip()\n",
    "\n",
    "            if len(line) == word_length:\n",
    "                yield line\n",
    "\n",
    "\n",
    "words = list(load_dictionary('DELAS_PB.dic', 5))"
   ]
  },
  {
   "cell_type": "markdown",
   "metadata": {},
   "source": [
    "Também removemos do léxico palavras que já sabemos que não são aceitas no jogo."
   ]
  },
  {
   "cell_type": "code",
   "execution_count": 92,
   "metadata": {},
   "outputs": [
    {
     "data": {
      "text/plain": [
       "False"
      ]
     },
     "execution_count": 92,
     "metadata": {},
     "output_type": "execute_result"
    }
   ],
   "source": [
    "forbidden = list(load_dictionary('forbidden_words.dic', 5))\n",
    "\n",
    "words = list(filter(lambda word: word not in forbidden, words))\n",
    "\n",
    "'ariel' in words\n"
   ]
  },
  {
   "cell_type": "markdown",
   "metadata": {},
   "source": [
    "# Primeiro chute\n",
    "\n",
    "Agora, vamos encontrar a palavra para ser nosso melhor primeiro \"chute\". Considerando uma distribuição de palavras que sigam o léxico (algo que não é, necessariamente, verdade ☹), vamos verificar quais são as letras mais frequentes. Dessa forma, vamos fazer o primeiro chute com uma palavra que contenha as letras mais frequentes na língua.\n",
    "\n",
    "Note que as cinco letras mais frequentes podem não formar uma palavra válida. Por isto, vamos pegar a palavra do léxico que possua o maior número de letras frequentes."
   ]
  },
  {
   "cell_type": "markdown",
   "metadata": {},
   "source": [
    "Primeiro, nós contabilizamos as letras no léxico."
   ]
  },
  {
   "cell_type": "code",
   "execution_count": 93,
   "metadata": {},
   "outputs": [],
   "source": [
    "letters = {}\n",
    "\n",
    "for word in words:\n",
    "    for letter in word:\n",
    "        if letter in letters:\n",
    "            letters[letter] += 1\n",
    "        else:\n",
    "            letters[letter] = 1\n",
    "\n",
    "# Sort by most common letter\n",
    "sorted_letters = sorted(letters.items(), key=lambda x: x[1], reverse=True)\n",
    "sorted_letters = list(map(lambda x: x[0], sorted_letters))\n"
   ]
  },
  {
   "cell_type": "markdown",
   "metadata": {},
   "source": [
    "Agora, procuramos uma palavra no léxico que maximize as letras frequentes. Um ponto importante aqui é que não queremos repetições - i.e., não queremos uma palavra que tenha letras repetidas."
   ]
  },
  {
   "cell_type": "code",
   "execution_count": 94,
   "metadata": {},
   "outputs": [
    {
     "name": "stdout",
     "output_type": "stream",
     "text": [
      "Could not find a word using the top letters aorei\n"
     ]
    },
    {
     "data": {
      "text/plain": [
       "'arilo'"
      ]
     },
     "execution_count": 94,
     "metadata": {},
     "output_type": "execute_result"
    }
   ],
   "source": [
    "def find_word_with_letters(words: list, letters: list) -> str:\n",
    "    \"\"\"\n",
    "    Finds the first word in the list that contains all the letters in the list.\n",
    "    \"\"\"\n",
    "    for word in words:\n",
    "        target = letters.copy()  # what letters are left to find\n",
    "\n",
    "        for letter in word:\n",
    "            if letter in target:\n",
    "                target.remove(letter)\n",
    "\n",
    "        if len(target) == len(letters) - 5:\n",
    "            return word\n",
    "\n",
    "    return None\n",
    "\n",
    "\n",
    "def find_best_guess(words, ranked_letters):\n",
    "    for size in range(5, len(ranked_letters)):\n",
    "        letters = ranked_letters[:size]\n",
    "        guess = find_word_with_letters(words, letters)\n",
    "\n",
    "        if guess != None:\n",
    "            return guess\n",
    "        else:\n",
    "            print(\"Could not find a word using the top letters {}\".format(\n",
    "                ''.join(letters)))\n",
    "\n",
    "\n",
    "best_guess = find_best_guess(words, sorted_letters)\n",
    "best_guess\n"
   ]
  },
  {
   "cell_type": "markdown",
   "metadata": {},
   "source": [
    "# Jogando o jogo\n",
    "\n",
    "Com nosso primeiro chute em mãos, iniciamos o jogo. Precisamos de uma maneira para codificar a resposta que o jogo nos da para cada chute; utilizaremos uma string para isso, onde cada posição identifica o retorno do jogo, da seguinte maneira:\n",
    "\n",
    "- Um espaço denota uma falha.\n",
    "- Um caractere `i` indica que a letra está inclusa na palavra, mas não na posição correta.\n",
    "- Um caracter `c` indica que a letra está inclusa na palavra e na posição correta.\n",
    "\n",
    "Para jogar, informamos ao usuário qual deve ser o chute, e aguardamos que ele insira a resposta recebida. Aí computamos o melhor chute considerando o que já sabemos.\n",
    "\n",
    "O melhor chute é aquele que obedece aquilo que já sabemos das palavras (por exemplo, quais letras devem estar presentes) e que prefere utilizar letras mais frequentes.\n",
    "\n",
    "> Seguimos essa heurística por que não temos como deduzir a probabilidade de uma palavra aparecer no jogo, mas temos uma regra para determinar a probabilidade de uma palavra incluir uma letra. "
   ]
  },
  {
   "cell_type": "code",
   "execution_count": 95,
   "metadata": {},
   "outputs": [],
   "source": [
    "def validate_result(result: str) -> bool:\n",
    "\tif len(result) != 5:\n",
    "\t\tprint('Result must be 5 letters long')\n",
    "\t\treturn False\n",
    "\t\n",
    "\tif any(c not in ' ci' for c in result):\n",
    "\t\tprint('Result must be composed of spaces, \"i\" or \"c\"')\t\n",
    "\t\treturn False\n",
    "\n",
    "\treturn True"
   ]
  },
  {
   "cell_type": "code",
   "execution_count": 96,
   "metadata": {},
   "outputs": [],
   "source": [
    "def describe_next_guess(included: List[str], not_included: List[str], known: List[str]) -> None:\n",
    "    print('Guess must include {}'.format(', '.join(included)))\n",
    "    print('Guess must not include {}'.format(', '.join(not_included)))\n",
    "    print('Guess must be like {}'.format(', '.join(known)))\n"
   ]
  },
  {
   "cell_type": "markdown",
   "metadata": {},
   "source": [
    "Para criar um novo chute, primeiro recuperamos a lista de palavras e a filtramos pelas regras.\n"
   ]
  },
  {
   "cell_type": "code",
   "execution_count": 97,
   "metadata": {},
   "outputs": [],
   "source": [
    "def match(word: str, look_like: List[str]):\n",
    "\tfor i in range(len(look_like)):\n",
    "\t\tif look_like[i] != ' ' and word[i] != look_like[i]:\n",
    "\t\t\treturn False\n",
    "\n",
    "\treturn True\n",
    "\n",
    "\n",
    "def filter_by(words: List[str], included_letters: List[str], not_included_letters: List[str], known: List[str]):\n",
    "\tfor word in words:\n",
    "\t\t# Check if any letter of the word is in the forbidden list\n",
    "\t\tif any(letter in not_included_letters for letter in word):\n",
    "\t\t\tcontinue\n",
    "\t\t# Check if any letter from the must-have list is missing\n",
    "\t\tif any(letter not in word for letter in included_letters):\n",
    "\t\t\tcontinue\n",
    "\t\t\n",
    "\t\tif not match(word, known):\n",
    "\t\t\tcontinue\n",
    "\n",
    "\t\tyield word\t\t\n",
    "\t"
   ]
  },
  {
   "cell_type": "code",
   "execution_count": 98,
   "metadata": {},
   "outputs": [
    {
     "name": "stdout",
     "output_type": "stream",
     "text": [
      "Result must be 5 letters long\n",
      "Guess must include i\n",
      "Guess must not include a, l, r\n",
      "Guess must be like  ,  ,  ,  , o\n",
      "Could not find a word using the top letters aorei\n",
      "Could not find a word using the top letters aoreil\n",
      "Could not find a word using the top letters aoreilt\n",
      "Result must be 5 letters long\n",
      "Guess must include i\n",
      "Guess must not include l, t, r, n, a, e\n",
      "Guess must be like  ,  ,  ,  , o\n",
      "Could not find a word using the top letters aorei\n",
      "Could not find a word using the top letters aoreil\n",
      "Could not find a word using the top letters aoreilt\n",
      "Could not find a word using the top letters aoreiltn\n",
      "Could not find a word using the top letters aoreiltns\n",
      "Could not find a word using the top letters aoreiltnsu\n",
      "Could not find a word using the top letters aoreiltnsuc\n",
      "Could not find a word using the top letters aoreiltnsucm\n",
      "Guess must include i\n",
      "Guess must not include l, d, s, t, c, r, n, a, e\n",
      "Guess must be like  , i,  ,  , o\n",
      "Could not find a word using the top letters aorei\n",
      "Could not find a word using the top letters aoreil\n",
      "Could not find a word using the top letters aoreilt\n",
      "Could not find a word using the top letters aoreiltn\n",
      "Could not find a word using the top letters aoreiltns\n",
      "Could not find a word using the top letters aoreiltnsu\n",
      "Could not find a word using the top letters aoreiltnsuc\n",
      "Could not find a word using the top letters aoreiltnsucm\n",
      "Could not find a word using the top letters aoreiltnsucmd\n",
      "Could not find a word using the top letters aoreiltnsucmdb\n",
      "Could not find a word using the top letters aoreiltnsucmdbp\n",
      "Could not find a word using the top letters aoreiltnsucmdbpg\n",
      "Could not find a word using the top letters aoreiltnsucmdbpgv\n",
      "Could not find a word using the top letters aoreiltnsucmdbpgvf\n",
      "Could not find a word using the top letters aoreiltnsucmdbpgvfh\n",
      "Could not find a word using the top letters aoreiltnsucmdbpgvfhz\n",
      "Result must be composed of spaces, \"i\" or \"c\"\n",
      "Guess must include i\n",
      "Guess must not include b, l, d, ã, g, s, t, c, r, n, a, e\n",
      "Guess must be like  , i,  ,  , o\n",
      "Could not find a word using the top letters aorei\n",
      "Could not find a word using the top letters aoreil\n",
      "Could not find a word using the top letters aoreilt\n",
      "Could not find a word using the top letters aoreiltn\n",
      "Could not find a word using the top letters aoreiltns\n",
      "Could not find a word using the top letters aoreiltnsu\n",
      "Could not find a word using the top letters aoreiltnsuc\n",
      "Could not find a word using the top letters aoreiltnsucm\n",
      "Could not find a word using the top letters aoreiltnsucmd\n",
      "Could not find a word using the top letters aoreiltnsucmdb\n",
      "Could not find a word using the top letters aoreiltnsucmdbp\n",
      "Could not find a word using the top letters aoreiltnsucmdbpg\n",
      "Could not find a word using the top letters aoreiltnsucmdbpgv\n",
      "Could not find a word using the top letters aoreiltnsucmdbpgvf\n",
      "Could not find a word using the top letters aoreiltnsucmdbpgvfh\n",
      "Could not find a word using the top letters aoreiltnsucmdbpgvfhz\n",
      "Could not find a word using the top letters aoreiltnsucmdbpgvfhzã\n",
      "Could not find a word using the top letters aoreiltnsucmdbpgvfhzãá\n",
      "Could not find a word using the top letters aoreiltnsucmdbpgvfhzãáj\n",
      "Could not find a word using the top letters aoreiltnsucmdbpgvfhzãájx\n",
      "Could not find a word using the top letters aoreiltnsucmdbpgvfhzãájxé\n",
      "Could not find a word using the top letters aoreiltnsucmdbpgvfhzãájxéí\n",
      "Could not find a word using the top letters aoreiltnsucmdbpgvfhzãájxéíó\n",
      "Could not find a word using the top letters aoreiltnsucmdbpgvfhzãájxéíóç\n",
      "Could not find a word using the top letters aoreiltnsucmdbpgvfhzãájxéíóçú\n",
      "Could not find a word using the top letters aoreiltnsucmdbpgvfhzãájxéíóçúy\n",
      "Could not find a word using the top letters aoreiltnsucmdbpgvfhzãájxéíóçúyê\n",
      "Could not find a word using the top letters aoreiltnsucmdbpgvfhzãájxéíóçúyêq\n",
      "Could not find a word using the top letters aoreiltnsucmdbpgvfhzãájxéíóçúyêqk\n",
      "Could not find a word using the top letters aoreiltnsucmdbpgvfhzãájxéíóçúyêqkô\n",
      "Could not find a word using the top letters aoreiltnsucmdbpgvfhzãájxéíóçúyêqkôâ\n",
      "Could not find a word using the top letters aoreiltnsucmdbpgvfhzãájxéíóçúyêqkôâw\n",
      "Could not find a word using the top letters aoreiltnsucmdbpgvfhzãájxéíóçúyêqkôâwü\n",
      "Could not find a word using the top letters aoreiltnsucmdbpgvfhzãájxéíóçúyêqkôâwüà\n",
      "Empty result. Stopping game.\n"
     ]
    }
   ],
   "source": [
    "def play_game(guess: str, words: List[str], ranked_letters: List[str]):\n",
    "    # what letters should be in the word\n",
    "    included_letters = set()\n",
    "\n",
    "    # what letters should not be in the word\n",
    "    not_included_letters = set()\n",
    "\n",
    "    # the word that is being guessed, every letter is blank until it is known\n",
    "    final_word = [letter for letter in '     ']\n",
    "\n",
    "    while True:\n",
    "        result = input(\n",
    "            f'Try the guess \"{guess}\". What was the result? ').lower()\n",
    "\n",
    "        if (len(result) == 0):\n",
    "            print(\"Empty result. Stopping game.\")\n",
    "            return\n",
    "\n",
    "        if not validate_result(result):\n",
    "            continue\n",
    "\n",
    "        for i, r in enumerate(result):\n",
    "            letter = guess[i]\n",
    "\n",
    "            if r == ' ':\n",
    "                not_included_letters.add(letter)\n",
    "            elif r == 'c':\n",
    "                final_word[i] = letter\n",
    "            elif r == 'i':\n",
    "                included_letters.add(letter)\n",
    "\n",
    "        describe_next_guess(included_letters, not_included_letters, final_word)\n",
    "\n",
    "        # update list of possible words based on the current state\n",
    "        words = list(filter_by(words, included_letters, not_included_letters, final_word))\n",
    "\n",
    "        if len(words) == 0:\n",
    "            print(\"Could not find any words that satisfy parameters. Stopping game.\")\n",
    "\n",
    "        # find the best guess\n",
    "        guess = find_best_guess(words, ranked_letters)\n",
    "\n",
    "        \n",
    "\n",
    "\n",
    "play_game(best_guess, words, sorted_letters)\n"
   ]
  }
 ],
 "metadata": {
  "interpreter": {
   "hash": "70a427b2caf12bb341e215cb6063d7bd143eaf83b0bbd6420b8e44f0edcb91f7"
  },
  "kernelspec": {
   "display_name": "Python 3.8.9 64-bit",
   "language": "python",
   "name": "python3"
  },
  "language_info": {
   "codemirror_mode": {
    "name": "ipython",
    "version": 3
   },
   "file_extension": ".py",
   "mimetype": "text/x-python",
   "name": "python",
   "nbconvert_exporter": "python",
   "pygments_lexer": "ipython3",
   "version": "3.8.9"
  },
  "orig_nbformat": 4
 },
 "nbformat": 4,
 "nbformat_minor": 2
}
