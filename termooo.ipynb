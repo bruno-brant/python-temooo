{
 "cells": [
  {
   "cell_type": "code",
   "execution_count": 4,
   "metadata": {},
   "outputs": [],
   "source": [
    "from typing import List\n",
    "from unidecode import unidecode"
   ]
  },
  {
   "cell_type": "code",
   "execution_count": 5,
   "metadata": {},
   "outputs": [],
   "source": [
    "WORD_LENGTH = 5"
   ]
  },
  {
   "cell_type": "markdown",
   "metadata": {},
   "source": [
    "# Carregar o Léxico\n",
    "Precisamos de uma lista de palavras válidas para a língua portuguesa - chamamos isso de léxico. Vamos utilizar um produzido por um time de especialistas da USP, no projeto [Unitex](http://www.nilc.icmc.usp.br/nilc/projects/unitex-pb/web/dicionarios.html).\n",
    "\n",
    "Esse léxico possui mais de 75.000 palavras encontradas em textos em português. \n",
    "\n",
    "> ⚠ Uma análise do arquivo irá mostrar vários verbetes que não seriam válidos no term.ooo, como palavras em inglês (Windows ou wheel), pois esse léxico foi extraído de textos reais onde verbetes em outras línguas também são encontrados. Futuramente, poderíamos fazer uma redução dessa base para apenas palavras usuais."
   ]
  },
  {
   "cell_type": "markdown",
   "metadata": {},
   "source": [
    "Note que carregamos apenas palavras com 5 caracteres, uma vez que esse tamanho é fixo no `term.ooo`."
   ]
  },
  {
   "cell_type": "code",
   "execution_count": 6,
   "metadata": {},
   "outputs": [],
   "source": [
    "def load_dictionary(filename: str, word_length: int):\n",
    "    \"\"\"\n",
    "    Loads a lexicon from a file, where the each word is the first token on a line.\n",
    "    Tokens are separated by commas.\n",
    "    \"\"\"\n",
    "    with open(filename, 'r', encoding='UTF-8') as f:\n",
    "        for line in f:\n",
    "            line = line.split(',')[0]\n",
    "            line = line.strip()\n",
    "\n",
    "            if len(line) == word_length:\n",
    "                yield line\n"
   ]
  },
  {
   "cell_type": "markdown",
   "metadata": {},
   "source": [
    "Removemos diátricos (não são necessários no jogo). Usamos `set` para remover palavras repetidas que surgem após a remoção."
   ]
  },
  {
   "cell_type": "code",
   "execution_count": 7,
   "metadata": {},
   "outputs": [],
   "source": [
    "\n",
    "words = map(unidecode, load_dictionary('./DELAS_PB.dic', WORD_LENGTH))\n",
    "words = set(words)\n"
   ]
  },
  {
   "cell_type": "markdown",
   "metadata": {},
   "source": [
    "Também removemos do léxico palavras que já sabemos que não são aceitas no jogo."
   ]
  },
  {
   "cell_type": "code",
   "execution_count": 8,
   "metadata": {},
   "outputs": [],
   "source": [
    "forbidden = list(load_dictionary('forbidden_words.dic', WORD_LENGTH))\n",
    "\n",
    "words = list(filter(lambda word: word not in forbidden, words))\n"
   ]
  },
  {
   "cell_type": "markdown",
   "metadata": {},
   "source": [
    "# Classificando um chute\n",
    "\n",
    "Assumindo que a probabilidade de escolher uma palavra aleatória do léxico pelo Termo é uniforme para todas as palavras, precisamos determinar qual seria a melhor escolha. \n",
    "\n",
    "O jogo funciona através de chutes de palavras, que fornecem pistas sobre as letras que compõe a palavra. Para cada letra da palavra, o jogo informa se a letra não está presente na palavra, se está presente em uma posição diferente da de nosso chute e se está exatamente na posição do chute. \n",
    "\n",
    "> Por exemplo, imagine um léxico de 5 palavras de tamanho 3, e um alfabeto de 3 letras: \n",
    "> \n",
    "> ``` python\n",
    "> ['CBA', 'BBC', 'CAC', 'BCA', 'CAB']\n",
    "> ```\n",
    "> \n",
    "> Se a palavra escolhida for 'BBC' e chutássemos 'BCA', iamos ter uma informação:\n",
    "> \n",
    "> \n",
    "> | B | C | A |\n",
    "> |:-:|:-:|:-:|\n",
    "> |🟢 |🟡| 🔴 |\n",
    "> \n",
    "> Com essas pistas, podemos descartar todas as palavras do léxico que não começam com B:\n",
    "> \n",
    "> ``` python\n",
    "> ['BBC', 'BCA']\n",
    "> ```\n",
    "> \n",
    "> E descartar todas que tem A:\n",
    "> ``` python\n",
    "> ['BBC']\n",
    "> ```\n",
    "> Que nos leva a respota correta.\n",
    "\n",
    "O ideal então é realizar um chute que remova o maior número de palavras. Em nosso exemplo foram eliminadas 4 palavras de 5. Esse seria o ideal, mas veja o seguinte, vamos fazer o mesmo chute, mas considerar que a palavra escolhida foi BBC:\n",
    "\n",
    "> Léxico:\n",
    "> \n",
    "> ``` python\n",
    "> ['CBA', 'BBC', 'CAC', 'BCA', 'CAB']\n",
    "> ```\n",
    ">\n",
    "> Chute:\n",
    "> \n",
    "> | B | C | A |\n",
    "> |:-:|:-:|:-:|\n",
    "> |🟡 |🟡| 🔴 |\n",
    ">\n",
    "> Eliminamos todas as palavras que não tem B:\n",
    ">\n",
    "> ``` python\n",
    "> ['CBA', 'BBC', 'BCA', 'CAB']\n",
    "> ```\n",
    ">\n",
    "> E agora todas que tem B na primeira posição:\n",
    ">\n",
    "> ``` python\n",
    "> ['CBA', 'CAB']\n",
    "> ```\n",
    "> \n",
    "> Agora eliminamos as que não tem C:\n",
    ">\n",
    "> ``` python\n",
    "> ['CBA', 'CAB']\n",
    "> ```\n",
    "> \n",
    "> E, finalmente, as que tem C na segunda posição:\n",
    "> \n",
    "> ``` python\n",
    "> ['CBA', 'CAB']\n",
    "> ```\n",
    ">\n",
    "> Eliminamos apenas 3 palavras!\n",
    ">\n",
    "\n",
    "A eficácia do \"chute\" varia não só com o léxico, mas também com base na palavra que foi escolhida pelo jogo. Então, na realidade, existe uma probabilidade de quantas palavras são eliminadas por um determinado chute, com base na palavra que foi escolhida.\n",
    "\n",
    "Em teoria, poderíamos combinar o número de palavras eliminadas para cada chute com a probabilidade de escolha de cada palavra (1/N, onde N é o número de palavras do léxico). Mas para isso teríamos que calcular as palavras eliminadas para cada chute N vezes. Como o léxico começa com milhares de palavras, pode ser demorado fazer esse cálculo. Uma solução melhor é se basear nas próprias letras da palavra chutada. Ao invés de assumir uma palavra escolhida (das quais há N), podemos primeiro verificar a probablidade de acertar todas as letras, depois de acertar duas, depois uma, depois errar todas, depois acertar uma e uma posição, etc.\n",
    "\n",
    "De forma genérica\n",
    "\n",
    "![](https://latex.codecogs.com/svg.image?%5Csum_%7Bi=3%7D%5E%7B0%7D%5Csum_%7Bj=0%7D%5E%7B2%7D%20P(X=x,%20%5Calpha=i-j,%20%5Cbeta=j)%20)\n",
    "\n",
    "\n",
    "Onde α são as letras na posição correta e ß são as letras que estão na palavra mas não na posição correta.\n",
    "\n",
    "A probabilidade P de hipótese se obtém contando o número de palavras no léxico que obdece a disposição de letras inferida."
   ]
  },
  {
   "cell_type": "code",
   "execution_count": 9,
   "metadata": {},
   "outputs": [],
   "source": [
    "# Modelamos um resultade de um guess:\n",
    "from enum import Enum\n",
    "\n",
    "class GuessResult(Enum):\n",
    "\t\"\"\"The word does not contains the letter.\"\"\"\n",
    "\tNOT_CONTAINS = 0\n",
    "\t\"\"\"The word contains the letter but no in the informed position.\"\"\"\n",
    "\tCONTAINS = 1\n",
    "\t\"\"\"The word contains the letter and in the informed position.\"\"\"\n",
    "\tCORRECT = 2\n",
    "\n",
    "\n",
    "def guess_probability(lexicon: List[str], guess: str) -> float:\n",
    "\t\"\"\"\n",
    "\tReturns the probability of a word being a guess.\n",
    "\t\"\"\"\n",
    "\tpass\n"
   ]
  },
  {
   "cell_type": "code",
   "execution_count": 44,
   "metadata": {},
   "outputs": [],
   "source": [
    "def filter_by_guess(lexicon: List[str], guess: str, guess_result: List[GuessResult]) -> List[str]:\n",
    "    \"\"\"\n",
    "    Filter the lexicon by the guess result.\n",
    "    \"\"\"\n",
    "    \n",
    "    def is_match(guess: str, guess_result: List[GuessResult], word: str) -> bool:\n",
    "        \"\"\"\n",
    "        Returns if the word matches the guess.\n",
    "        \"\"\"\n",
    "        for i, guess_letter in enumerate(guess):\n",
    "            if guess_result[i] == GuessResult.NOT_CONTAINS:\n",
    "                if guess_letter in word:\n",
    "                    return False\n",
    "            elif guess_result[i] == GuessResult.CONTAINS:\n",
    "                if guess_letter not in word or guess[i] == guess_letter:\n",
    "                    return False\n",
    "            elif guess_result[i] == GuessResult.CORRECT:\n",
    "                if guess_letter != word[i]:\n",
    "                    return False\n",
    "            else:\n",
    "                raise ValueError(f'Invalid guess result {guess_result[i]}')\n",
    "\n",
    "        return True\n",
    "    \"\"\"\n",
    "    Returns the lexicon filtered by the guess based on the result.\n",
    "    \"\"\"\n",
    "    for word in lexicon:\n",
    "        if is_match(guess, guess_result, word):\n",
    "            yield word\n",
    "\n",
    "\n",
    "assert list(filter_by_guess(['AB', 'AC', 'BA', 'BC', 'CA', 'CB'], 'BA', [GuessResult.CORRECT, GuessResult.NOT_CONTAINS])) == ['BC']\n",
    "assert list(filter_by_guess(['AB', 'AC', 'BA', 'BC', 'CA', 'CB'], 'BA', [GuessResult.NOT_CONTAINS, GuessResult.CORRECT])) == ['CA']\n",
    "assert list(filter_by_guess(['AB', 'AC', 'BA', 'BC', 'CA', 'CB'], 'BA', [GuessResult.CORRECT, GuessResult.CORRECT])) == ['BA']\n"
   ]
  },
  {
   "cell_type": "markdown",
   "metadata": {},
   "source": [
    "# Primeiro chute\n",
    "\n",
    "Agora, vamos encontrar a palavra para ser nosso melhor primeiro \"chute\". Considerando uma distribuição de palavras que sigam o léxico (algo que não é, necessariamente, verdade ☹), vamos verificar quais são as letras mais frequentes. Dessa forma, vamos fazer o primeiro chute com uma palavra que contenha as letras mais frequentes na língua.\n",
    "\n",
    "Note que as cinco letras mais frequentes podem não formar uma palavra válida. Por isto, vamos pegar a palavra do léxico que possua o maior número de letras frequentes."
   ]
  },
  {
   "cell_type": "markdown",
   "metadata": {},
   "source": [
    "Primeiro, nós contabilizamos as letras no léxico."
   ]
  },
  {
   "cell_type": "code",
   "execution_count": 10,
   "metadata": {},
   "outputs": [
    {
     "data": {
      "text/plain": [
       "'Ranked letters: a, o, r, e, i, l, t, n, u, c, s, m, b, d, p, g, v, f, h, z, j, x, y, k, q, w'"
      ]
     },
     "execution_count": 10,
     "metadata": {},
     "output_type": "execute_result"
    }
   ],
   "source": [
    "letters = {}\n",
    "\n",
    "for word in words:\n",
    "    for letter in word:\n",
    "        if letter in letters:\n",
    "            letters[letter] += 1\n",
    "        else:\n",
    "            letters[letter] = 1\n",
    "\n",
    "# Sort by most common letter\n",
    "sorted_letters = sorted(letters.items(), key=lambda x: x[1], reverse=True)\n",
    "sorted_letters = list(map(lambda x: x[0], sorted_letters))\n",
    "'Ranked letters: ' + ', '.join(sorted_letters)"
   ]
  },
  {
   "cell_type": "markdown",
   "metadata": {},
   "source": [
    "Agora, procuramos uma palavra no léxico que maximize as letras frequentes. Um ponto importante aqui é que não queremos repetições - i.e., não queremos uma palavra que tenha letras repetidas."
   ]
  },
  {
   "cell_type": "code",
   "execution_count": 11,
   "metadata": {},
   "outputs": [
    {
     "name": "stdout",
     "output_type": "stream",
     "text": [
      "Could not find a word using the top letters 'aorei'. \n"
     ]
    },
    {
     "data": {
      "text/plain": [
       "'leira'"
      ]
     },
     "execution_count": 11,
     "metadata": {},
     "output_type": "execute_result"
    }
   ],
   "source": [
    "def find_first_word_with_letters(words: List[str], letters: List[str]) -> str:\n",
    "    \"\"\"\n",
    "    Finds the *first* word in the list that is made only of letters in the list.\n",
    "    \"\"\"\n",
    "    for word in words:\n",
    "        target = letters.copy()  # what letters are left to find\n",
    "\n",
    "        for letter in word:\n",
    "            if letter in target:\n",
    "                target.remove(letter)\n",
    "\n",
    "        if len(target) == len(letters) - len(word):\n",
    "            return word\n",
    "\n",
    "    return None\n",
    "\n",
    "\n",
    "def find_next_best_guess(words, ranked_letters, guesses=[]):\n",
    "    \"\"\"\n",
    "    Finds the best next guess based on the ranked letters.\n",
    "\n",
    "    words - list of all possible words in the game\n",
    "    ranked_letters - list of letters sorted by most common\n",
    "    guesses - list of guesses made so far\n",
    "    \"\"\"\n",
    "\n",
    "    # Build a list of all letters that already have been guessed\n",
    "    guessed_letters = set([list(guess) for guess in guesses])               # list(str) split str by chars...\n",
    "\n",
    "    # Filter the ranked letters to only include non-guessed letters\n",
    "    if len(guessed_letters) != 0:\n",
    "        print(f\"Skipping letters: {guessed_letters}\")        \n",
    "        ranked_letters = filter(\n",
    "            lambda letter: letter not in guessed_letters, ranked_letters)\n",
    "        ranked_letters = list(ranked_letters)\n",
    "\n",
    "    for size in range(WORD_LENGTH, len(ranked_letters)):\n",
    "        letters = ranked_letters[:size]\n",
    "        guess = find_first_word_with_letters(words, letters)\n",
    "\n",
    "        if guess != None:\n",
    "            return guess\n",
    "        else:\n",
    "            joined_letters = ''.join(letters)\n",
    "\n",
    "            msg = f\"Could not find a word using the top letters '{joined_letters}'. \" #+ \\\n",
    "                #f\"Only {len(ranked_letters)} letters are available.\"\n",
    "\n",
    "            print(msg)\n",
    "\n",
    "\n",
    "best_guess = find_next_best_guess(words, sorted_letters)\n",
    "best_guess\n"
   ]
  },
  {
   "cell_type": "markdown",
   "metadata": {},
   "source": [
    "# Jogando o jogo\n",
    "\n",
    "Com nosso primeiro chute em mãos, iniciamos o jogo. Precisamos de uma maneira para codificar a resposta que o jogo nos da para cada chute; utilizaremos uma string para isso, onde cada posição identifica o retorno do jogo, da seguinte maneira:\n",
    "\n",
    "- Um espaço denota uma falha.\n",
    "- Um caractere `i` indica que a letra está inclusa na palavra, mas não na posição correta.\n",
    "- Um caracter `c` indica que a letra está inclusa na palavra e na posição correta.\n",
    "\n",
    "Para jogar, informamos ao usuário qual deve ser o chute, e aguardamos que ele insira a resposta recebida. Aí computamos o melhor chute considerando o que já sabemos.\n",
    "\n",
    "O melhor chute é aquele que obedece aquilo que já sabemos das palavras (por exemplo, quais letras devem estar presentes) e que prefere utilizar letras mais frequentes.\n",
    "\n",
    "> Seguimos essa heurística por que não temos como deduzir a probabilidade de uma palavra aparecer no jogo, mas temos uma regra para determinar a probabilidade de uma palavra incluir uma letra. "
   ]
  },
  {
   "cell_type": "code",
   "execution_count": 8,
   "metadata": {},
   "outputs": [],
   "source": [
    "def validate_result(result: str) -> bool:\n",
    "\tif len(result) != 5:\n",
    "\t\tprint('Result must be 5 letters long')\n",
    "\t\treturn False\n",
    "\t\n",
    "\tif any(c not in ' ci' for c in result):\n",
    "\t\tprint('Result must be composed of spaces, \"i\" or \"c\"')\t\n",
    "\t\treturn False\n",
    "\n",
    "\treturn True"
   ]
  },
  {
   "cell_type": "code",
   "execution_count": 9,
   "metadata": {},
   "outputs": [],
   "source": [
    "def describe_next_guess(included: List[str], not_included: List[str], known: List[str]) -> None:\n",
    "    print('Guess must include {}'.format(', '.join(included)))\n",
    "    print('Guess must not include {}'.format(', '.join(not_included)))\n",
    "    print('Guess must be like {}'.format(', '.join(known)))\n"
   ]
  },
  {
   "cell_type": "markdown",
   "metadata": {},
   "source": [
    "Para criar um novo chute, primeiro recuperamos a lista de palavras e a filtramos pelas regras.\n"
   ]
  },
  {
   "cell_type": "code",
   "execution_count": 10,
   "metadata": {},
   "outputs": [],
   "source": [
    "def match(word: str, like: List[str], unlike: List[List[set]]) -> bool:\n",
    "\tfor i in range(len(word)):\n",
    "\t\tif like[i] != ' ' and word[i] != like[i]:\n",
    "\t\t\treturn False\n",
    "\t\t\n",
    "\t\tif word[i] in unlike[i]:\n",
    "\t\t\treturn False\n",
    "\n",
    "\treturn True\n",
    "\n",
    "\n",
    "def filter_by(words: List[str], included_letters: List[str], not_included_letters: List[str], like: List[str], unlike: List[List[set]]):\n",
    "\tfor word in words:\n",
    "\t\t# Check if any letter of the word is in the forbidden list\n",
    "\t\tif any(letter in not_included_letters for letter in word):\n",
    "\t\t\tcontinue\n",
    "\t\t# Check if any letter from the must-have list is missing\n",
    "\t\tif any(letter not in word for letter in included_letters):\n",
    "\t\t\tcontinue\n",
    "\t\t\n",
    "\t\tif not match(word, like, unlike):\n",
    "\t\t\tcontinue\n",
    "\n",
    "\t\tyield word\t\t\n",
    "\t"
   ]
  },
  {
   "cell_type": "code",
   "execution_count": 11,
   "metadata": {},
   "outputs": [
    {
     "name": "stdout",
     "output_type": "stream",
     "text": [
      "Currently there are 3559 possible words.\n",
      "Skipping letters: {'o', 'r', 'e', 'a', 'l'}\n",
      "Could not find a word using the top letters 'itnuc'. \n",
      "Currently there are 121 possible words.\n",
      "Skipping letters: {'o', 'r', 't', 'c', 'u', 'i', 's', 'e', 'a', 'l'}\n",
      "Could not find a word using the top letters 'nmbdp'. \n",
      "Could not find a word using the top letters 'nmbdpg'. \n",
      "Could not find a word using the top letters 'nmbdpgv'. \n",
      "Could not find a word using the top letters 'nmbdpgvf'. \n",
      "Could not find a word using the top letters 'nmbdpgvfh'. \n",
      "Could not find a word using the top letters 'nmbdpgvfhz'. \n",
      "Could not find a word using the top letters 'nmbdpgvfhzj'. \n",
      "Could not find a word using the top letters 'nmbdpgvfhzjx'. \n",
      "Could not find a word using the top letters 'nmbdpgvfhzjxy'. \n",
      "Could not find a word using the top letters 'nmbdpgvfhzjxyk'. \n",
      "Could not find a word using the top letters 'nmbdpgvfhzjxykq'. \n",
      "Currently there are 12 possible words.\n",
      "Empty result. Stopping game.\n"
     ]
    }
   ],
   "source": [
    "def play_game(guesses: List[str], words: List[str], ranked_letters: List[str]):\n",
    "    all_words = words.copy()\n",
    "\n",
    "    # what letters should be in the word\n",
    "    included_letters = set()\n",
    "\n",
    "    # what letters should not be in the word\n",
    "    not_included_letters = set()\n",
    "\n",
    "    # the word that is being guessed, every letter is blank until it is known\n",
    "    final_word = [letter for letter in '     ']\n",
    "\n",
    "    # what letters must not be in each position in the word\n",
    "    unlike = [set() for _ in range(5)]\n",
    "\n",
    "    while True:\n",
    "        print(f\"Currently there are {len(words)} possible words.\")\n",
    "\n",
    "        result = input(\n",
    "            f'Try the guess \"{guesses[-1]}\". What was the result? ').lower()\n",
    "\n",
    "        if len(result) == 0:\n",
    "            print(\"Empty result. Stopping game.\")\n",
    "            return\n",
    "\n",
    "        if not validate_result(result):\n",
    "            continue\n",
    "\n",
    "        for i, r in enumerate(result):\n",
    "            letter = guesses[-1][i]\n",
    "\n",
    "            if r == ' ':\n",
    "                not_included_letters.add(letter)\n",
    "            elif r == 'c':\n",
    "                final_word[i] = letter\n",
    "            elif r == 'i':\n",
    "                included_letters.add(letter)\n",
    "                unlike[i].add(letter)\n",
    "\n",
    "        #describe_next_guess(included_letters, not_included_letters, final_word)\n",
    "\n",
    "        # update list of possible words based on the current state\n",
    "        words = list(filter_by(words, included_letters,\n",
    "                     not_included_letters, final_word, unlike))\n",
    "\n",
    "        if len(words) == 0:\n",
    "            print(\"Could not find any words that satisfy parameters. Stopping game.\")\n",
    "            break\n",
    "\n",
    "        elif len(words) <= 10:\n",
    "            print(\"Possible words: \" + ', '.join(words))\n",
    "            break\n",
    "\n",
    "        else:\n",
    "            # find the best guess\n",
    "            guesses.append(find_best_guess(all_words, ranked_letters, guesses))\n",
    "\n",
    "\n",
    "play_game([best_guess], words, sorted_letters)\n"
   ]
  }
 ],
 "metadata": {
  "interpreter": {
   "hash": "c5f62ebd706ecb15b30178a028ceaf40887ce24553aece8a63f73faaacbc658f"
  },
  "kernelspec": {
   "display_name": "Python 3.8.9 ('.venv': venv)",
   "language": "python",
   "name": "python3"
  },
  "language_info": {
   "codemirror_mode": {
    "name": "ipython",
    "version": 3
   },
   "file_extension": ".py",
   "mimetype": "text/x-python",
   "name": "python",
   "nbconvert_exporter": "python",
   "pygments_lexer": "ipython3",
   "version": "3.8.9"
  },
  "orig_nbformat": 4
 },
 "nbformat": 4,
 "nbformat_minor": 2
}
